{
 "cells": [
  {
   "cell_type": "code",
   "execution_count": 34,
   "metadata": {},
   "outputs": [
    {
     "name": "stderr",
     "output_type": "stream",
     "text": [
      "<frozen importlib._bootstrap>:219: RuntimeWarning: scipy._lib.messagestream.MessageStream size changed, may indicate binary incompatibility. Expected 56 from C header, got 64 from PyObject\n"
     ]
    }
   ],
   "source": [
    "import pandas as pd \n",
    "import numpy as np \n",
    "import torch \n",
    "import torch.nn as nn \n",
    "import random \n",
    "import os \n",
    "from gensim.models import Word2Vec"
   ]
  },
  {
   "cell_type": "code",
   "execution_count": 4,
   "metadata": {},
   "outputs": [],
   "source": [
    "dpath = 'BlogCatalog-dataset/data/'\n",
    "edges = pd.read_csv(os.path.join(dpath, 'edges.csv'), header=None)\n",
    "group_edges = pd.read_csv(os.path.join(dpath, 'group-edges.csv'), header=None)\n",
    "groups = pd.read_csv(os.path.join(dpath, 'groups.csv'), header=None)\n",
    "nodes = pd.read_csv(os.path.join(dpath, 'nodes.csv'), header=None) \n"
   ]
  },
  {
   "cell_type": "code",
   "execution_count": 21,
   "metadata": {},
   "outputs": [
    {
     "data": {
      "text/html": [
       "<div>\n",
       "<style scoped>\n",
       "    .dataframe tbody tr th:only-of-type {\n",
       "        vertical-align: middle;\n",
       "    }\n",
       "\n",
       "    .dataframe tbody tr th {\n",
       "        vertical-align: top;\n",
       "    }\n",
       "\n",
       "    .dataframe thead th {\n",
       "        text-align: right;\n",
       "    }\n",
       "</style>\n",
       "<table border=\"1\" class=\"dataframe\">\n",
       "  <thead>\n",
       "    <tr style=\"text-align: right;\">\n",
       "      <th></th>\n",
       "      <th>0</th>\n",
       "      <th>1</th>\n",
       "    </tr>\n",
       "  </thead>\n",
       "  <tbody>\n",
       "    <tr>\n",
       "      <th>0</th>\n",
       "      <td>0</td>\n",
       "      <td>175</td>\n",
       "    </tr>\n",
       "    <tr>\n",
       "      <th>1</th>\n",
       "      <td>0</td>\n",
       "      <td>232</td>\n",
       "    </tr>\n",
       "    <tr>\n",
       "      <th>2</th>\n",
       "      <td>0</td>\n",
       "      <td>282</td>\n",
       "    </tr>\n",
       "    <tr>\n",
       "      <th>3</th>\n",
       "      <td>0</td>\n",
       "      <td>370</td>\n",
       "    </tr>\n",
       "    <tr>\n",
       "      <th>4</th>\n",
       "      <td>0</td>\n",
       "      <td>393</td>\n",
       "    </tr>\n",
       "    <tr>\n",
       "      <th>...</th>\n",
       "      <td>...</td>\n",
       "      <td>...</td>\n",
       "    </tr>\n",
       "    <tr>\n",
       "      <th>333978</th>\n",
       "      <td>10301</td>\n",
       "      <td>10309</td>\n",
       "    </tr>\n",
       "    <tr>\n",
       "      <th>333979</th>\n",
       "      <td>10302</td>\n",
       "      <td>10309</td>\n",
       "    </tr>\n",
       "    <tr>\n",
       "      <th>333980</th>\n",
       "      <td>10304</td>\n",
       "      <td>10310</td>\n",
       "    </tr>\n",
       "    <tr>\n",
       "      <th>333981</th>\n",
       "      <td>10306</td>\n",
       "      <td>10309</td>\n",
       "    </tr>\n",
       "    <tr>\n",
       "      <th>333982</th>\n",
       "      <td>10307</td>\n",
       "      <td>10309</td>\n",
       "    </tr>\n",
       "  </tbody>\n",
       "</table>\n",
       "<p>333983 rows × 2 columns</p>\n",
       "</div>"
      ],
      "text/plain": [
       "            0      1\n",
       "0           0    175\n",
       "1           0    232\n",
       "2           0    282\n",
       "3           0    370\n",
       "4           0    393\n",
       "...       ...    ...\n",
       "333978  10301  10309\n",
       "333979  10302  10309\n",
       "333980  10304  10310\n",
       "333981  10306  10309\n",
       "333982  10307  10309\n",
       "\n",
       "[333983 rows x 2 columns]"
      ]
     },
     "execution_count": 21,
     "metadata": {},
     "output_type": "execute_result"
    }
   ],
   "source": [
    "edges[0] = edges[0] - 1 \n",
    "edges[1] = edges[1] - 1 \n",
    "edges"
   ]
  },
  {
   "cell_type": "code",
   "execution_count": 29,
   "metadata": {},
   "outputs": [],
   "source": [
    "i,j =  edges.loc[0]"
   ]
  },
  {
   "cell_type": "code",
   "execution_count": 31,
   "metadata": {},
   "outputs": [],
   "source": [
    "edge_list = [[] for _ in range(len(edges))]\n",
    "\n",
    "for i in range(len(edges)):\n",
    "    j,k = edges.loc[i]\n",
    "    edge_list[j].append(k)\n",
    "    edge_list[k].append(j)"
   ]
  },
  {
   "cell_type": "code",
   "execution_count": 42,
   "metadata": {},
   "outputs": [],
   "source": [
    "class DeepWalk(nn.Module):\n",
    "    def __init__(self, edges,num_nodes, embedding_dim=2, window_size=10, walk_length=20, num_walks=6):\n",
    "        super(DeepWalk, self).__init__()\n",
    "        self.edges = edges\n",
    "        self.num_nodes = num_nodes\n",
    "        self.embedding_dim = embedding_dim\n",
    "        self.window_size = window_size\n",
    "        self.walk_length = walk_length\n",
    "        self.num_walks = num_walks\n",
    "        \n",
    "    def random_walk(self, node):\n",
    "        walk = [node]\n",
    "        for _ in range(self.walk_length):\n",
    "            walk.append(random.choice(self.edges[walk[-1]]))\n",
    "        return walk\n",
    "    \n",
    "    def make_walks(self):\n",
    "        walk_list = []\n",
    "        for node in range(self.num_nodes):\n",
    "            for _ in range(self.num_walks):\n",
    "                walk_list.append(self.random_walk(node))\n",
    "        \n",
    "        return walk_list\n",
    "    \n",
    "    def train(self):\n",
    "        walks = self.make_walks()\n",
    "        # if sg = 1 : skip-gram\n",
    "        # if hs = 1 : hierarchical softmax\n",
    "        model = Word2Vec(walks, vector_size=self.embedding_dim, window=self.window_size, sg=1, hs=1)\n",
    "        self.embedding = model\n",
    "        \n",
    "        return self.embedding\n",
    "    \n",
    "    "
   ]
  },
  {
   "cell_type": "code",
   "execution_count": 43,
   "metadata": {},
   "outputs": [],
   "source": [
    "model = DeepWalk(edge_list, len(nodes))\n",
    "DeepWalk_Embedding = model.train()"
   ]
  },
  {
   "cell_type": "code",
   "execution_count": 71,
   "metadata": {},
   "outputs": [
    {
     "data": {
      "text/plain": [
       "Text(0.5, 1.0, 'Representations of BlogCatalog dataset using DeepWalk')"
      ]
     },
     "execution_count": 71,
     "metadata": {},
     "output_type": "execute_result"
    },
    {
     "data": {
      "image/png": "[encoded data removed]",
      "text/plain": [
       "<Figure size 640x480 with 1 Axes>"
      ]
     },
     "metadata": {},
     "output_type": "display_data"
    }
   ],
   "source": [
    "from sklearn.decomposition import PCA\n",
    "import matplotlib.pyplot as plt\n",
    "\n",
    "x_coords = []\n",
    "y_coords = []\n",
    "word_vectors = [DeepWalk_Embedding.wv[v] for v in DeepWalk_Embedding.wv.key_to_index.keys()]\n",
    "pca = PCA(n_components=2)\n",
    "# edge_list = DeepWalk_Embedding.wv.vocab\n",
    "pca_result = pca.fit_transform(word_vectors)\n",
    "for x,y in pca_result:\n",
    "    x_coords.append(x)\n",
    "    y_coords.append(y)\n",
    "plt.scatter(x_coords, y_coords)\n",
    "# for i,v in enumerate(edge_list):\n",
    "#     plt.annotate(v,xy=(x_coords[i],y_coords[i]))\n",
    "plt.title(\"Representations of BlogCatalog dataset using DeepWalk\")"
   ]
  },
  {
   "cell_type": "code",
   "execution_count": null,
   "metadata": {},
   "outputs": [],
   "source": []
  }
 ],
 "metadata": {
  "kernelspec": {
   "display_name": "recbole",
   "language": "python",
   "name": "python3"
  },
  "language_info": {
   "codemirror_mode": {
    "name": "ipython",
    "version": 3
   },
   "file_extension": ".py",
   "mimetype": "text/x-python",
   "name": "python",
   "nbconvert_exporter": "python",
   "pygments_lexer": "ipython3",
   "version": "3.8.5"
  },
  "orig_nbformat": 4
 },
 "nbformat": 4,
 "nbformat_minor": 2
}
