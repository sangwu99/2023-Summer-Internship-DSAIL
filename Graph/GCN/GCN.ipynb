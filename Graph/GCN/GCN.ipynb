{
 "cells": [
  {
   "attachments": {},
   "cell_type": "markdown",
   "metadata": {},
   "source": [
    "Task : Node Classification\n",
    "\n",
    "Dataset : https://graphsandnetworks.com/the-cora-dataset/ \n",
    "\n",
    "Reference : https://github.com/tkipf/pygcn/blob/master/pygcn/utils.py"
   ]
  },
  {
   "cell_type": "code",
   "execution_count": 1,
   "metadata": {},
   "outputs": [
    {
     "name": "stderr",
     "output_type": "stream",
     "text": [
      "/opt/conda/envs/recbole/lib/python3.8/site-packages/scipy/__init__.py:146: UserWarning: A NumPy version >=1.16.5 and <1.23.0 is required for this version of SciPy (detected version 1.24.3\n",
      "  warnings.warn(f\"A NumPy version >={np_minversion} and <{np_maxversion}\"\n",
      "/opt/conda/envs/recbole/lib/python3.8/site-packages/tqdm/auto.py:22: TqdmWarning: IProgress not found. Please update jupyter and ipywidgets. See https://ipywidgets.readthedocs.io/en/stable/user_install.html\n",
      "  from .autonotebook import tqdm as notebook_tqdm\n"
     ]
    }
   ],
   "source": [
    "import os \n",
    "import pandas as pd \n",
    "import wget\n",
    "import numpy as np \n",
    "import scipy.sparse as sp\n",
    "import torch\n",
    "import torch.nn as nn\n",
    "import torch.nn.functional as F\n",
    "from sklearn.preprocessing import OneHotEncoder"
   ]
  },
  {
   "cell_type": "code",
   "execution_count": 4,
   "metadata": {},
   "outputs": [
    {
     "data": {
      "text/plain": [
       "'cora.tgz'"
      ]
     },
     "execution_count": 4,
     "metadata": {},
     "output_type": "execute_result"
    }
   ],
   "source": [
    "url = 'https://linqs-data.soe.ucsc.edu/public/lbc/cora.tgz'\n",
    "wget.download(url)"
   ]
  },
  {
   "cell_type": "code",
   "execution_count": 6,
   "metadata": {},
   "outputs": [
    {
     "name": "stdout",
     "output_type": "stream",
     "text": [
      "cora/\n",
      "cora/README\n",
      "cora/cora.cites\n",
      "cora/cora.content\n"
     ]
    }
   ],
   "source": [
    "!tar -xvzf cora.tgz"
   ]
  },
  {
   "cell_type": "code",
   "execution_count": null,
   "metadata": {},
   "outputs": [],
   "source": [
    "# encoder = OneHotEncoder().fit(node_list[['subject']])\n",
    "# sparse_mat = encoder.transform(node_list[['subject']])\n",
    "# sparse_mat.toarray()\n",
    "\n",
    "# label = sparse_mat.toarray()\n",
    "# labels = torch.LongTensor(np.where(label)[1])"
   ]
  },
  {
   "cell_type": "code",
   "execution_count": 3,
   "metadata": {},
   "outputs": [],
   "source": [
    "data_dir = 'cora'\n",
    "edge_list = pd.read_csv(os.path.join(data_dir, 'cora.cites'), sep='\\t', header=None, names=['target', 'source'])\n",
    "node_list = pd.read_csv(os.path.join(data_dir, 'cora.content'), sep='\\t', header=None, names=['paper_id']+['feature_'+str(ii) for ii in range(1433)]+['subject'])\n",
    "\n",
    "idx = np.array(node_list.iloc[:,0])\n",
    "idx_map = {j: i for i,j in enumerate(idx)}\n",
    "\n",
    "label_dict = {j:i for i,j in enumerate(node_list['subject'].unique())}\n",
    "\n",
    "node_list = node_list[['paper_id', 'subject']]\n",
    "node_list['paper_id'] = node_list['paper_id'].map(idx_map)\n",
    "node_list['subject'] = node_list['subject'].map(label_dict)\n",
    "\n",
    "edge_list['target'] = edge_list['target'].map(idx_map)\n",
    "edge_list['source'] = edge_list['source'].map(idx_map)\n",
    "\n",
    "for_concat = edge_list.copy()\n",
    "for_concat.rename(columns={'target':'source', 'source':'target'}, inplace=True)\n",
    "\n",
    "edge_list = pd.concat([edge_list, for_concat], axis=0, ignore_index=True)"
   ]
  },
  {
   "cell_type": "code",
   "execution_count": 4,
   "metadata": {},
   "outputs": [],
   "source": [
    "def sparse_mx_to_torch_sparse_tensor(sparse_mx):\n",
    "    \"\"\"Convert a scipy sparse matrix to a torch sparse tensor.\"\"\"\n",
    "    sparse_mx = sparse_mx.tocoo().astype(np.float32)\n",
    "    indices = torch.from_numpy(\n",
    "        np.vstack((sparse_mx.row, sparse_mx.col)).astype(np.int64))\n",
    "    values = torch.from_numpy(sparse_mx.data)\n",
    "    shape = torch.Size(sparse_mx.shape)\n",
    "    return torch.sparse.FloatTensor(indices, values, shape)"
   ]
  },
  {
   "cell_type": "code",
   "execution_count": 5,
   "metadata": {},
   "outputs": [],
   "source": [
    "adj = sp.coo_matrix((np.ones(len(edge_list)), (edge_list['target'], edge_list['source'])), shape=(len(idx), len(idx)), dtype=np.float32)\n",
    "adj = adj + sp.eye(adj.shape[0])\n",
    "rowsum = np.array(adj.sum(1))\n",
    "inv = np.power(rowsum, -1).flatten()\n",
    "inv[np.isinf(inv)] = 0.\n",
    "inv = sp.diags(inv)\n",
    "adj = inv.dot(adj)\n",
    "\n",
    "adj = sparse_mx_to_torch_sparse_tensor(adj)"
   ]
  },
  {
   "cell_type": "code",
   "execution_count": 6,
   "metadata": {},
   "outputs": [],
   "source": [
    "idx_train = range(140)\n",
    "idx_val = range(200, 500)\n",
    "idx_test = range(500, 1500)\n",
    "\n",
    "idx_train = torch.LongTensor(idx_train) \n",
    "idx_val = torch.LongTensor(idx_val) \n",
    "idx_test = torch.LongTensor(idx_test)\n",
    "\n"
   ]
  },
  {
   "cell_type": "code",
   "execution_count": 7,
   "metadata": {},
   "outputs": [],
   "source": [
    "class GCN_Layer(nn.Module):\n",
    "    def __init__(self,in_features,out_features):\n",
    "        super(GCN_Layer,self).__init__()\n",
    "        self.in_features = in_features \n",
    "        self.out_features = out_features\n",
    "        self.layer = nn.Linear(in_features=self.in_features,out_features=self.out_features)\n",
    "        \n",
    "    def forward(self,x,A):\n",
    "        x = self.layer(torch.spmm(A,x))\n",
    "        output = F.relu(x)\n",
    "        \n",
    "        return output\n",
    "\n",
    "class GCN(nn.Module):\n",
    "    def __init__(self, input_dim, hidden_dims, output_dim, dropout_rate):\n",
    "        super(GCN,self).__init__()\n",
    "        self.input_dim = input_dim\n",
    "        self.hidden_dims = hidden_dims\n",
    "        self.output_dim = output_dim \n",
    "        self.dropout_rate = dropout_rate \n",
    "        \n",
    "        self.input_layer = GCN_Layer(self.input_dim,self.hidden_dims[0])\n",
    "        \n",
    "        self.output_layer = GCN_Layer(self.hidden_dims[-1],self.output_dim)\n",
    "        \n",
    "        layers = []\n",
    "        \n",
    "        for i in range(len(self.hidden_dims)-1):\n",
    "            layers.append(GCN_Layer(self.hidden_dims[i],self.hidden_dims[i+1]))\n",
    "        \n",
    "        self.layers = nn.ModuleList(layers)\n",
    "        \n",
    "                \n",
    "    def forward(self, x, A):\n",
    "        x = self.input_layer(torch.spmm(A,x))\n",
    "        for layer in self.layers:\n",
    "            x = layer(x,A)\n",
    "        x = self.output_layer(torch.spmm(A,x))\n",
    "        output = F.softmax(x)\n",
    "        \n",
    "        return output \n",
    "        "
   ]
  },
  {
   "cell_type": "code",
   "execution_count": null,
   "metadata": {},
   "outputs": [],
   "source": [
    "Epochs = 200 \n"
   ]
  }
 ],
 "metadata": {
  "kernelspec": {
   "display_name": "recbole",
   "language": "python",
   "name": "python3"
  },
  "language_info": {
   "codemirror_mode": {
    "name": "ipython",
    "version": 3
   },
   "file_extension": ".py",
   "mimetype": "text/x-python",
   "name": "python",
   "nbconvert_exporter": "python",
   "pygments_lexer": "ipython3",
   "version": "3.8.5"
  },
  "orig_nbformat": 4
 },
 "nbformat": 4,
 "nbformat_minor": 2
}
