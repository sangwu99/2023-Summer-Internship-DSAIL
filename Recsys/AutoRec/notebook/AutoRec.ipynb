{
 "cells": [
  {
   "cell_type": "code",
   "execution_count": 1,
   "metadata": {},
   "outputs": [
    {
     "name": "stderr",
     "output_type": "stream",
     "text": [
      "/opt/conda/envs/recbole/lib/python3.8/site-packages/tqdm/auto.py:21: TqdmWarning: IProgress not found. Please update jupyter and ipywidgets. See https://ipywidgets.readthedocs.io/en/stable/user_install.html\n",
      "  from .autonotebook import tqdm as notebook_tqdm\n",
      "<frozen importlib._bootstrap>:219: RuntimeWarning: scipy._lib.messagestream.MessageStream size changed, may indicate binary incompatibility. Expected 56 from C header, got 64 from PyObject\n"
     ]
    }
   ],
   "source": [
    "import pandas as pd \n",
    "import os \n",
    "import scipy.sparse as sp\n",
    "import numpy as np\n",
    "import torch \n",
    "import torch.nn as nn \n",
    "import torch.nn.functional as F\n",
    "from torch.utils.data import Dataset, DataLoader\n",
    "from sklearn.model_selection import train_test_split\n"
   ]
  },
  {
   "cell_type": "code",
   "execution_count": 2,
   "metadata": {},
   "outputs": [],
   "source": [
    "df = pd.read_csv(os.path.join('../ml-100k/','u.data'), sep='\\t', header=None)\n",
    "df.columns = ['user_id', 'item_id', 'rating', 'timestamp']\n",
    "user2idx = {j:i for i,j in enumerate(df.user_id.unique())}\n",
    "item2idx = {j:i for i,j in enumerate(df.item_id.unique())}\n",
    "\n",
    "df['user_id'] = df['user_id'].map(user2idx)\n",
    "df['item_id'] = df['item_id'].map(item2idx)\n",
    "\n",
    "def preprocess_rating(x):\n",
    "    if x == 0:\n",
    "        return -1 \n",
    "    else:\n",
    "        return (x-1) / 4\n",
    "\n",
    "df['rating'] = df['rating'].apply(preprocess_rating)"
   ]
  },
  {
   "cell_type": "code",
   "execution_count": 3,
   "metadata": {},
   "outputs": [],
   "source": [
    "num_items = df.item_id.nunique()\n",
    "num_users = df.user_id.nunique()"
   ]
  },
  {
   "cell_type": "code",
   "execution_count": 4,
   "metadata": {},
   "outputs": [],
   "source": [
    "train_df, test_df = train_test_split(df, test_size=0.2, random_state=42)\n",
    "train_user, train_item, train_rating = train_df.user_id.values, train_df.item_id.values, train_df.rating.values\n",
    "test_user, test_item, test_rating = test_df.user_id.values, test_df.item_id.values, test_df.rating.values\n"
   ]
  },
  {
   "cell_type": "code",
   "execution_count": 5,
   "metadata": {},
   "outputs": [],
   "source": [
    "class AutoRecDataset(Dataset):\n",
    "    def __init__(self, user_list, item_list, rating_list, num_user, num_item, is_item=True):\n",
    "        super(AutoRecDataset, self).__init__()\n",
    "        self.is_item = is_item\n",
    "        self.user_list = user_list\n",
    "        self.item_list = item_list\n",
    "        self.rating_list = rating_list\n",
    "        self.num_user = num_user\n",
    "        self.num_item = num_item\n",
    "        \n",
    "        self.make_mat()\n",
    "        \n",
    "    def make_mat(self):\n",
    "        if self.is_item==True:\n",
    "            self.matrix = torch.zeros(self.num_item, self.num_user)\n",
    "            for user, item, rating in zip(self.user_list, self.item_list, self.rating_list):\n",
    "                self.matrix[item, user] = rating\n",
    "        else:\n",
    "            self.matrix = torch.zeros(self.num_user, self.num_item)\n",
    "            for user, item, rating in zip(self.user_list, self.item_list, self.rating_list):\n",
    "                self.matrix[user, item] = rating\n",
    "    \n",
    "    def __len__(self):\n",
    "        if self.is_item==True:\n",
    "            return self.num_item\n",
    "        else:\n",
    "            return self.num_user\n",
    "    \n",
    "    def __getitem__(self, idx):\n",
    "        return self.matrix[idx]\n",
    "        \n",
    "        "
   ]
  },
  {
   "cell_type": "code",
   "execution_count": 6,
   "metadata": {},
   "outputs": [],
   "source": [
    "train_dataset = AutoRecDataset(train_user, train_item, train_rating, num_users, num_items, True)\n",
    "train_loader = DataLoader(train_dataset, batch_size=256, shuffle=True)\n",
    "test_dataset = AutoRecDataset(test_user, test_item, test_rating, num_users, num_items, True)\n",
    "test_loader = DataLoader(test_dataset, batch_size=256, shuffle=False)"
   ]
  },
  {
   "cell_type": "code",
   "execution_count": 7,
   "metadata": {},
   "outputs": [],
   "source": [
    "device = torch.device('cuda' if torch.cuda.is_available() else 'cpu')"
   ]
  },
  {
   "cell_type": "code",
   "execution_count": 8,
   "metadata": {},
   "outputs": [],
   "source": [
    "class AutoRec(nn.Module):\n",
    "    def __init__(self, num_users, num_items, hidden_dim, is_item = True):\n",
    "        super(AutoRec, self).__init__()\n",
    "        if is_item == True:\n",
    "            self.hidden_dim = [num_users] + hidden_dim\n",
    "        else:\n",
    "            self.hidden_dim = [num_items] + hidden_dim\n",
    "        self.encoder = nn.ModuleList([nn.Linear(self.hidden_dim[idx], self.hidden_dim[idx+1])\n",
    "                                        for idx in range(len(self.hidden_dim)-1)])\n",
    "        self.decoder = nn.ModuleList([nn.Linear(self.hidden_dim[idx], self.hidden_dim[idx-1])\n",
    "                                        for idx in range(len(self.hidden_dim)-1, 0, -1)])\n",
    "        self.init_weights()\n",
    "        \n",
    "    def init_weights(self):\n",
    "        for layer in self.encoder:\n",
    "            nn.init.xavier_uniform_(layer.weight)\n",
    "            nn.init.zeros_(layer.bias)\n",
    "        for layer in self.decoder:\n",
    "            nn.init.xavier_uniform_(layer.weight)\n",
    "            nn.init.zeros_(layer.bias)\n",
    "            \n",
    "    def forward(self, x):\n",
    "        for layer in self.encoder:\n",
    "            x = F.relu(layer(x))\n",
    "        for idx in range(len(self.decoder)):\n",
    "            if idx == len(self.decoder) -1:\n",
    "                x = torch.sigmoid(self.decoder[idx](x))\n",
    "            else:\n",
    "                x = F.relu(self.decoder[idx](x))\n",
    "        return x"
   ]
  },
  {
   "cell_type": "code",
   "execution_count": 10,
   "metadata": {},
   "outputs": [],
   "source": [
    "model = AutoRec(num_users, num_items, [64], True)"
   ]
  },
  {
   "cell_type": "code",
   "execution_count": 11,
   "metadata": {},
   "outputs": [],
   "source": [
    "lr = 0.001 \n",
    "reg = 0.001\n",
    "optimizer = torch.optim.Adam(model.parameters(), lr=lr, weight_decay=reg)\n",
    "def RMSELoss(x, xhat):\n",
    "    return torch.sqrt(torch.mean((x-xhat)**2))\n",
    "\n",
    "criterion = RMSELoss"
   ]
  },
  {
   "cell_type": "code",
   "execution_count": 12,
   "metadata": {},
   "outputs": [],
   "source": [
    "model = model.to(device)"
   ]
  },
  {
   "cell_type": "code",
   "execution_count": 13,
   "metadata": {},
   "outputs": [],
   "source": [
    "def train(model, train_loader, test_loader, criterion, optimizer, device):\n",
    "    summary = pd.DataFrame(columns=['epoch', 'train_loss', 'test_loss'])\n",
    "    \n",
    "    for epoch in range(100):\n",
    "        model.train()\n",
    "        \n",
    "        for batch in train_loader:\n",
    "            batch = batch.to(device)\n",
    "            mask = batch >= 0 \n",
    "            neg = batch == -1 \n",
    "            batch[neg] = 0.5 \n",
    "            \n",
    "            optimizer.zero_grad()\n",
    "            output = model(batch)\n",
    "            loss = criterion(output[mask], batch[mask])\n",
    "            \n",
    "            loss.backward()\n",
    "            optimizer.step()\n",
    "            \n",
    "            train_loss = loss.item()\n",
    "            \n",
    "        train_loss = train_loss / len(train_loader)\n",
    "        \n",
    "        with torch.no_grad():\n",
    "            model.eval()\n",
    "            \n",
    "            for batch in test_loader:\n",
    "                batch = batch.to(device)\n",
    "                mask = batch >= 0 \n",
    "                \n",
    "                output = model(batch)\n",
    "                loss = criterion(output[mask], batch[mask])\n",
    "                \n",
    "                test_loss = loss.item()\n",
    "                \n",
    "            test_loss = test_loss / len(test_loader)\n",
    "            \n",
    "        summary = pd.concat([summary, pd.DataFrame([[epoch, train_loss, test_loss]], columns=['epoch', 'train_loss', 'test_loss'])])\n",
    "        \n",
    "    return summary"
   ]
  },
  {
   "cell_type": "code",
   "execution_count": 14,
   "metadata": {},
   "outputs": [
    {
     "data": {
      "text/html": [
       "<div>\n",
       "<style scoped>\n",
       "    .dataframe tbody tr th:only-of-type {\n",
       "        vertical-align: middle;\n",
       "    }\n",
       "\n",
       "    .dataframe tbody tr th {\n",
       "        vertical-align: top;\n",
       "    }\n",
       "\n",
       "    .dataframe thead th {\n",
       "        text-align: right;\n",
       "    }\n",
       "</style>\n",
       "<table border=\"1\" class=\"dataframe\">\n",
       "  <thead>\n",
       "    <tr style=\"text-align: right;\">\n",
       "      <th></th>\n",
       "      <th>epoch</th>\n",
       "      <th>train_loss</th>\n",
       "      <th>test_loss</th>\n",
       "    </tr>\n",
       "  </thead>\n",
       "  <tbody>\n",
       "    <tr>\n",
       "      <th>0</th>\n",
       "      <td>0</td>\n",
       "      <td>0.070065</td>\n",
       "      <td>0.071147</td>\n",
       "    </tr>\n",
       "    <tr>\n",
       "      <th>0</th>\n",
       "      <td>1</td>\n",
       "      <td>0.069343</td>\n",
       "      <td>0.070849</td>\n",
       "    </tr>\n",
       "    <tr>\n",
       "      <th>0</th>\n",
       "      <td>2</td>\n",
       "      <td>0.068138</td>\n",
       "      <td>0.070471</td>\n",
       "    </tr>\n",
       "    <tr>\n",
       "      <th>0</th>\n",
       "      <td>3</td>\n",
       "      <td>0.065774</td>\n",
       "      <td>0.069925</td>\n",
       "    </tr>\n",
       "    <tr>\n",
       "      <th>0</th>\n",
       "      <td>4</td>\n",
       "      <td>0.061977</td>\n",
       "      <td>0.069121</td>\n",
       "    </tr>\n",
       "    <tr>\n",
       "      <th>...</th>\n",
       "      <td>...</td>\n",
       "      <td>...</td>\n",
       "      <td>...</td>\n",
       "    </tr>\n",
       "    <tr>\n",
       "      <th>0</th>\n",
       "      <td>95</td>\n",
       "      <td>0.025813</td>\n",
       "      <td>0.023275</td>\n",
       "    </tr>\n",
       "    <tr>\n",
       "      <th>0</th>\n",
       "      <td>96</td>\n",
       "      <td>0.023809</td>\n",
       "      <td>0.023321</td>\n",
       "    </tr>\n",
       "    <tr>\n",
       "      <th>0</th>\n",
       "      <td>97</td>\n",
       "      <td>0.027281</td>\n",
       "      <td>0.023006</td>\n",
       "    </tr>\n",
       "    <tr>\n",
       "      <th>0</th>\n",
       "      <td>98</td>\n",
       "      <td>0.025595</td>\n",
       "      <td>0.022588</td>\n",
       "    </tr>\n",
       "    <tr>\n",
       "      <th>0</th>\n",
       "      <td>99</td>\n",
       "      <td>0.024878</td>\n",
       "      <td>0.022796</td>\n",
       "    </tr>\n",
       "  </tbody>\n",
       "</table>\n",
       "<p>100 rows × 3 columns</p>\n",
       "</div>"
      ],
      "text/plain": [
       "   epoch  train_loss  test_loss\n",
       "0      0    0.070065   0.071147\n",
       "0      1    0.069343   0.070849\n",
       "0      2    0.068138   0.070471\n",
       "0      3    0.065774   0.069925\n",
       "0      4    0.061977   0.069121\n",
       "..   ...         ...        ...\n",
       "0     95    0.025813   0.023275\n",
       "0     96    0.023809   0.023321\n",
       "0     97    0.027281   0.023006\n",
       "0     98    0.025595   0.022588\n",
       "0     99    0.024878   0.022796\n",
       "\n",
       "[100 rows x 3 columns]"
      ]
     },
     "execution_count": 14,
     "metadata": {},
     "output_type": "execute_result"
    }
   ],
   "source": [
    "train(model, train_loader, test_loader, criterion, optimizer, device)"
   ]
  },
  {
   "cell_type": "code",
   "execution_count": null,
   "metadata": {},
   "outputs": [],
   "source": []
  }
 ],
 "metadata": {
  "kernelspec": {
   "display_name": "recbole",
   "language": "python",
   "name": "python3"
  },
  "language_info": {
   "codemirror_mode": {
    "name": "ipython",
    "version": 3
   },
   "file_extension": ".py",
   "mimetype": "text/x-python",
   "name": "python",
   "nbconvert_exporter": "python",
   "pygments_lexer": "ipython3",
   "version": "3.8.5"
  },
  "orig_nbformat": 4
 },
 "nbformat": 4,
 "nbformat_minor": 2
}
