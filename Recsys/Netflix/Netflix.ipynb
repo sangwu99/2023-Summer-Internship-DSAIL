{
 "cells": [
  {
   "cell_type": "code",
   "execution_count": 32,
   "metadata": {},
   "outputs": [],
   "source": [
    "import os \n",
    "import numpy as np \n",
    "import pandas as pd \n",
    "\n",
    "import torch \n",
    "import torch.nn as nn \n",
    "import torch.nn.functional as F\n",
    "\n",
    "import random\n",
    "from matplotlib import pyplot as plt\n"
   ]
  },
  {
   "cell_type": "code",
   "execution_count": 27,
   "metadata": {},
   "outputs": [
    {
     "data": {
      "text/plain": [
       "['combined_data_1.txt',\n",
       " 'combined_data_3.txt',\n",
       " 'combined_data_2.txt',\n",
       " 'combined_data_4.txt']"
      ]
     },
     "execution_count": 27,
     "metadata": {},
     "output_type": "execute_result"
    }
   ],
   "source": [
    "dpath = 'archive-2'\n",
    "data_list = []\n",
    "for i in os.listdir(dpath):\n",
    "    if 'combined_data' in i:\n",
    "        data_list.append(i)\n",
    "data_list"
   ]
  },
  {
   "cell_type": "code",
   "execution_count": 28,
   "metadata": {},
   "outputs": [
    {
     "name": "stdout",
     "output_type": "stream",
     "text": [
      "Loaded:  combined_data_1.txt\n",
      "Loaded:  combined_data_3.txt\n",
      "Loaded:  combined_data_2.txt\n",
      "Loaded:  combined_data_4.txt\n"
     ]
    }
   ],
   "source": [
    "df = pd.DataFrame({'Cust_ID','Rating'}) \n",
    "\n",
    "for data in data_list:\n",
    "    temp_df = pd.read_csv(os.path.join(dpath, data), header = None, names = ['Cust_ID', 'Rating'], usecols = [0,1])\n",
    "    temp_df['Rating'] = temp_df['Rating'].astype(float)\n",
    "    df = pd.concat([df, temp_df])\n",
    "    print(\"Loaded: \", data)\n",
    "\n",
    "df.index = np.arange(0,len(df))"
   ]
  },
  {
   "cell_type": "code",
   "execution_count": 29,
   "metadata": {},
   "outputs": [
    {
     "data": {
      "text/html": [
       "<div>\n",
       "<style scoped>\n",
       "    .dataframe tbody tr th:only-of-type {\n",
       "        vertical-align: middle;\n",
       "    }\n",
       "\n",
       "    .dataframe tbody tr th {\n",
       "        vertical-align: top;\n",
       "    }\n",
       "\n",
       "    .dataframe thead th {\n",
       "        text-align: right;\n",
       "    }\n",
       "</style>\n",
       "<table border=\"1\" class=\"dataframe\">\n",
       "  <thead>\n",
       "    <tr style=\"text-align: right;\">\n",
       "      <th></th>\n",
       "      <th>index</th>\n",
       "      <th>Rating</th>\n",
       "    </tr>\n",
       "  </thead>\n",
       "  <tbody>\n",
       "    <tr>\n",
       "      <th>0</th>\n",
       "      <td>0</td>\n",
       "      <td>True</td>\n",
       "    </tr>\n",
       "    <tr>\n",
       "      <th>1</th>\n",
       "      <td>1</td>\n",
       "      <td>True</td>\n",
       "    </tr>\n",
       "    <tr>\n",
       "      <th>2</th>\n",
       "      <td>2</td>\n",
       "      <td>True</td>\n",
       "    </tr>\n",
       "    <tr>\n",
       "      <th>3</th>\n",
       "      <td>550</td>\n",
       "      <td>True</td>\n",
       "    </tr>\n",
       "    <tr>\n",
       "      <th>4</th>\n",
       "      <td>696</td>\n",
       "      <td>True</td>\n",
       "    </tr>\n",
       "    <tr>\n",
       "      <th>...</th>\n",
       "      <td>...</td>\n",
       "      <td>...</td>\n",
       "    </tr>\n",
       "    <tr>\n",
       "      <th>17767</th>\n",
       "      <td>100488433</td>\n",
       "      <td>True</td>\n",
       "    </tr>\n",
       "    <tr>\n",
       "      <th>17768</th>\n",
       "      <td>100489039</td>\n",
       "      <td>True</td>\n",
       "    </tr>\n",
       "    <tr>\n",
       "      <th>17769</th>\n",
       "      <td>100489244</td>\n",
       "      <td>True</td>\n",
       "    </tr>\n",
       "    <tr>\n",
       "      <th>17770</th>\n",
       "      <td>100490607</td>\n",
       "      <td>True</td>\n",
       "    </tr>\n",
       "    <tr>\n",
       "      <th>17771</th>\n",
       "      <td>100497357</td>\n",
       "      <td>True</td>\n",
       "    </tr>\n",
       "  </tbody>\n",
       "</table>\n",
       "<p>17772 rows × 2 columns</p>\n",
       "</div>"
      ],
      "text/plain": [
       "           index  Rating\n",
       "0              0    True\n",
       "1              1    True\n",
       "2              2    True\n",
       "3            550    True\n",
       "4            696    True\n",
       "...          ...     ...\n",
       "17767  100488433    True\n",
       "17768  100489039    True\n",
       "17769  100489244    True\n",
       "17770  100490607    True\n",
       "17771  100497357    True\n",
       "\n",
       "[17772 rows x 2 columns]"
      ]
     },
     "execution_count": 29,
     "metadata": {},
     "output_type": "execute_result"
    }
   ],
   "source": [
    "df_nan = pd.DataFrame(pd.isnull(df.Rating))\n",
    "df_nan = df_nan[df_nan['Rating'] == True]\n",
    "df_nan = df_nan.reset_index()\n",
    "df_nan"
   ]
  },
  {
   "cell_type": "code",
   "execution_count": 30,
   "metadata": {},
   "outputs": [
    {
     "name": "stdout",
     "output_type": "stream",
     "text": [
      "Movie numpy: [3.0000e+00 3.0000e+00 3.0000e+00 ... 1.7772e+04 1.7772e+04 1.7772e+04]\n",
      "Length: 100480507\n"
     ]
    }
   ],
   "source": [
    "movie_np = []\n",
    "movie_id = 1\n",
    "\n",
    "for i,j in zip(df_nan['index'][1:],df_nan['index'][:-1]):\n",
    "    # numpy approach\n",
    "    temp = np.full((1,i-j-1), movie_id)\n",
    "    movie_np = np.append(movie_np, temp)\n",
    "    movie_id += 1\n",
    "\n",
    "# Account for last record and corresponding length\n",
    "# numpy approach\n",
    "last_record = np.full((1,len(df) - df_nan.iloc[-1, 0] - 1),movie_id)\n",
    "movie_np = np.append(movie_np, last_record)\n",
    "\n",
    "print('Movie numpy: {}'.format(movie_np))\n",
    "print('Length: {}'.format(len(movie_np)))"
   ]
  },
  {
   "cell_type": "code",
   "execution_count": 34,
   "metadata": {},
   "outputs": [
    {
     "name": "stderr",
     "output_type": "stream",
     "text": [
      "/tmp/ipykernel_19942/3989374729.py:2: SettingWithCopyWarning: \n",
      "A value is trying to be set on a copy of a slice from a DataFrame.\n",
      "Try using .loc[row_indexer,col_indexer] = value instead\n",
      "\n",
      "See the caveats in the documentation: https://pandas.pydata.org/pandas-docs/stable/user_guide/indexing.html#returning-a-view-versus-a-copy\n",
      "  df['Movie_Id'] = movie_np.astype(int)\n"
     ]
    },
    {
     "name": "stdout",
     "output_type": "stream",
     "text": [
      "             0  Cust_ID  Rating  Movie_Id\n",
      "3          NaN  1488844     3.0         3\n",
      "5000998    NaN   501954     2.0       998\n",
      "10001964   NaN   404654     5.0      1964\n",
      "15002878   NaN   886608     2.0      2878\n",
      "20003827   NaN  1193835     2.0      3827\n",
      "25004724   NaN    35179     4.0      4724\n",
      "30005670   NaN  2561536     3.0      5670\n",
      "35006570   NaN   200362     4.0      6570\n",
      "40007523   NaN   686629     4.0      7523\n",
      "45008341   NaN  1494017     2.0      8341\n",
      "50009228   NaN   437784     4.0      9228\n",
      "55010054   NaN   788058     4.0     10054\n",
      "60010826   NaN   433661     4.0     10826\n",
      "65011672   NaN  2402781     4.0     11672\n",
      "70012700   NaN   182620     4.0     12700\n",
      "75013584   NaN   506044     4.0     13584\n",
      "80014455   NaN   353605     2.0     14455\n",
      "85015118   NaN   664606     3.0     15118\n",
      "90016010   NaN  2213715     3.0     16010\n",
      "95016881   NaN  1589401     5.0     16881\n",
      "100017629  NaN  2314006     4.0     17629\n"
     ]
    },
    {
     "name": "stderr",
     "output_type": "stream",
     "text": [
      "/tmp/ipykernel_19942/3989374729.py:3: SettingWithCopyWarning: \n",
      "A value is trying to be set on a copy of a slice from a DataFrame.\n",
      "Try using .loc[row_indexer,col_indexer] = value instead\n",
      "\n",
      "See the caveats in the documentation: https://pandas.pydata.org/pandas-docs/stable/user_guide/indexing.html#returning-a-view-versus-a-copy\n",
      "  df['Cust_ID'] = df['Cust_ID'].astype(int)\n"
     ]
    }
   ],
   "source": [
    "df = df[pd.notnull(df['Rating'])]\n",
    "df['Movie_Id'] = movie_np.astype(int)\n",
    "df['Cust_ID'] = df['Cust_ID'].astype(int)\n",
    "print(df.iloc[::5000000, :])"
   ]
  },
  {
   "cell_type": "code",
   "execution_count": 36,
   "metadata": {},
   "outputs": [],
   "source": [
    "df.to_csv('preprocessed_df.csv', index=False)"
   ]
  },
  {
   "attachments": {},
   "cell_type": "markdown",
   "metadata": {},
   "source": [
    "## MF"
   ]
  },
  {
   "cell_type": "code",
   "execution_count": null,
   "metadata": {},
   "outputs": [],
   "source": [
    "def predict(P, Q, mu, b_u, b_i, user, item):\n",
    "    pred = mu + b_u[user] + b_i[item] + P[user, :].T.dot(Q[item, :])\n",
    "    return pred"
   ]
  },
  {
   "cell_type": "code",
   "execution_count": 31,
   "metadata": {},
   "outputs": [],
   "source": [
    "def sgd(P, Q, mu, b_u, b_i, samples, lr, reg):\n",
    "    for user, item, rating in samples:\n",
    "        pred = predict(P, Q, mu, b_u, b_i, user, item)\n",
    "        \n",
    "        error = rating - pred\n",
    "        \n",
    "        b_u[user] += lr * (error - reg * b_u[user])\n",
    "        b_i[item] += lr * (error - reg * b_i[item])\n",
    "        \n",
    "        P[user, :] += lr * (error * Q[item, :] - reg * P[user, :])\n",
    "        Q[item, :] += lr * (error * P[user, :] - reg * Q[item, :])"
   ]
  },
  {
   "cell_type": "code",
   "execution_count": null,
   "metadata": {},
   "outputs": [],
   "source": [
    "def rmse(samples, P, Q, mu, b_u, b_i):\n",
    "    error = [] \n",
    "    for user,item,rating in samples:\n",
    "        square_error = (rating - predict(P, Q, mu, b_u, b_i, user, item))**2\n",
    "        error.append(square_error)\n",
    "    rmse = np.sqrt(np.array(error).mean())\n",
    "    return rmse"
   ]
  },
  {
   "cell_type": "code",
   "execution_count": null,
   "metadata": {},
   "outputs": [],
   "source": [
    "class MF_with_sgd(object):\n",
    "    \n",
    "    def __init__(self, df ,num_users, num_items, F, lr, reg, epochs):\n",
    "        self.df = df\n",
    "        self.num_users, self.num_items = num_users, num_items\n",
    "        self.F = F\n",
    "        self.lr = lr \n",
    "        self.reg = reg \n",
    "        self.epochs = epochs\n",
    "        \n",
    "        self.summary = pd.DataFrame(columns = ['epoch','rmse'])\n",
    "    \n",
    "    def train(self): \n",
    "        self.P = np.random.normal(scale = 1/self.F,size = (self.num_users, self.F))\n",
    "        self.Q = np.random.normal(scale = 1/self.F,size = (self.num_items, self.F))\n",
    "        \n",
    "        self.b_u = np.zeros(self.num_users)\n",
    "        self.b_i = np.zeros(self.num_items)\n",
    "        \n",
    "        self.mu = np.mean(self.R[np.where(self.R != 0)])\n",
    "        \n",
    "        self.samples = [] \n",
    "        for idx in range(len(self.df)):\n",
    "            user, item, rating = df.iloc[idx]\n",
    "            self.samples.append((user,item,rating))\n",
    "        \n",
    "        for epoch in range(self.epochs): \n",
    "            np.random.shuffle(self.samples)\n",
    "            sgd(self.P, self.Q, self.mu, self.b_u, self.b_i, self.samples, self.lr, self.reg)\n",
    "            rmse(self.samples, self.P, self.Q, self.mu, self.b_u, self.b_i)\n",
    "\n",
    "            print(\"Epoch: %d ; error = %.4f\" % (epoch+1, rmse))\n",
    "            self.summary.loc[epoch] = [epoch, rmse]\n",
    "            "
   ]
  },
  {
   "cell_type": "code",
   "execution_count": null,
   "metadata": {},
   "outputs": [],
   "source": [
    "K = 10 \n",
    "lr = 0.01 \n",
    "reg = 0.2 \n",
    "epochs = 30 \n",
    "\n",
    "mf = MF(user_num,item_num, K, lr, reg, epochs)\n",
    "mf.train()"
   ]
  },
  {
   "cell_type": "code",
   "execution_count": null,
   "metadata": {},
   "outputs": [],
   "source": [
    "result_df = mf.summary \n",
    "\n",
    "x = result_df['epoch'].values\n",
    "y = result_df['rmse'].values\n",
    "\n",
    "plt.plot(x, y)\n",
    "plt.xticks(x,x)\n",
    "plt.xlabel('Epoch')\n",
    "plt.ylabel('RMSE')\n",
    "plt.grid(axis = 'y')\n",
    "plt.show()"
   ]
  },
  {
   "attachments": {},
   "cell_type": "markdown",
   "metadata": {},
   "source": [
    "## ALS"
   ]
  },
  {
   "cell_type": "code",
   "execution_count": null,
   "metadata": {},
   "outputs": [],
   "source": [
    "def als(R, P, Q, F, reg):\n",
    "    for user in len(R):\n",
    "        QT_Q = np.matmul(Q.T, Q)\n",
    "        li = reg * np.eye(F)\n",
    "        QT_ru = np.matmul(Q.T,R[user])\n",
    "        P[user] = np.linalg.solve(QT_Q + li,QT_ru)\n",
    "        \n",
    "    for item in len(R.T):\n",
    "        PT_P = np.matmul(P.T, P)\n",
    "        li = reg * np.eye(F)\n",
    "        PT_ri = np.matmul(P.T,R[:,item])\n",
    "        Q[item] = np.linalg.solve(PT_P + li,PT_ri)"
   ]
  },
  {
   "cell_type": "code",
   "execution_count": null,
   "metadata": {},
   "outputs": [],
   "source": [
    "def als_loss(sample, R, P, Q, reg):\n",
    "    loss = 0\n",
    "    for user, item, rating in sample: \n",
    "        loss += (rating - np.matmul(P[user],Q[item]))**2\n",
    "    for user in len(R):\n",
    "        loss += reg * np.matmul(P[user],P[user])\n",
    "    for item in len(R.T):\n",
    "        loss += reg * np.matmul(Q[item],Q[item])\n",
    "        \n",
    "    return loss"
   ]
  },
  {
   "cell_type": "code",
   "execution_count": null,
   "metadata": {},
   "outputs": [],
   "source": [
    "class MF_with_als(object):\n",
    "    def __init__(self, df, R, F, reg, epochs):\n",
    "        self.df = df\n",
    "        self.R = R\n",
    "        self.num_users, self.num_items = R.shape \n",
    "        self.F = F \n",
    "        self.reg = reg \n",
    "        self.epochs = epochs \n",
    "        \n",
    "        self.summary = pd.DataFrame(columns = ['epoch','loss'])\n",
    "        \n",
    "    def train(self):\n",
    "        self.P = np.random.normal(scale = 1/self.F, size = (self.num_users, self.F))\n",
    "        self.Q = np.random.normal(scale = 1/self.F, size = (self.num_items, self.F))\n",
    "        self.samples = []\n",
    "        \n",
    "        for idx in range(len(self.df)):\n",
    "            user, item, rating = df.iloc[idx]\n",
    "            self.samples.append((user,item,rating))\n",
    "            \n",
    "        for epoch in range(self.epochs): \n",
    "            als(self.R, self.P, self.Q, self.F, self.reg)\n",
    "            loss = als_loss(self.samples, self.R, self.P, self.Q, self.reg)\n",
    "            self.summary.loc[epoch] = [epoch, loss]\n",
    "            \n",
    "    "
   ]
  },
  {
   "cell_type": "code",
   "execution_count": null,
   "metadata": {},
   "outputs": [],
   "source": [
    "R = df.pivot_table('rating','userID','movieID').fillna(0) \n",
    "\n",
    "F = 10 \n",
    "reg = 0.2\n",
    "epochs = 500 "
   ]
  },
  {
   "cell_type": "code",
   "execution_count": null,
   "metadata": {},
   "outputs": [],
   "source": [
    "MF_als = MF_with_als(df, R, F, reg, epochs)\n",
    "MF_als.train()"
   ]
  },
  {
   "attachments": {},
   "cell_type": "markdown",
   "metadata": {},
   "source": []
  }
 ],
 "metadata": {
  "kernelspec": {
   "display_name": "recbole",
   "language": "python",
   "name": "python3"
  },
  "language_info": {
   "codemirror_mode": {
    "name": "ipython",
    "version": 3
   },
   "file_extension": ".py",
   "mimetype": "text/x-python",
   "name": "python",
   "nbconvert_exporter": "python",
   "pygments_lexer": "ipython3",
   "version": "3.8.5"
  },
  "orig_nbformat": 4
 },
 "nbformat": 4,
 "nbformat_minor": 2
}
