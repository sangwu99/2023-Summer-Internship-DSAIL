{
 "cells": [
  {
   "attachments": {},
   "cell_type": "markdown",
   "metadata": {},
   "source": [
    "## Package Import"
   ]
  },
  {
   "cell_type": "code",
   "execution_count": 24,
   "metadata": {},
   "outputs": [],
   "source": [
    "import os \n",
    "import numpy as np \n",
    "import pandas as pd \n",
    "from scipy.sparse import csr_matrix\n",
    "\n",
    "import torch \n",
    "import torch.nn as nn \n",
    "import torch.nn.functional as F\n",
    "from torch.optim import SGD\n",
    "\n",
    "from torch.utils.data import Dataset, DataLoader\n",
    "from sklearn.model_selection import train_test_split\n",
    "\n",
    "import random\n",
    "from matplotlib import pyplot as plt\n"
   ]
  },
  {
   "attachments": {},
   "cell_type": "markdown",
   "metadata": {},
   "source": [
    "## Data Preprocess"
   ]
  },
  {
   "cell_type": "code",
   "execution_count": 27,
   "metadata": {},
   "outputs": [
    {
     "data": {
      "text/plain": [
       "['combined_data_1.txt',\n",
       " 'combined_data_3.txt',\n",
       " 'combined_data_2.txt',\n",
       " 'combined_data_4.txt']"
      ]
     },
     "execution_count": 27,
     "metadata": {},
     "output_type": "execute_result"
    }
   ],
   "source": [
    "dpath = 'archive-2'\n",
    "data_list = []\n",
    "for i in os.listdir(dpath):\n",
    "    if 'combined_data' in i:\n",
    "        data_list.append(i)\n",
    "data_list"
   ]
  },
  {
   "cell_type": "code",
   "execution_count": 28,
   "metadata": {},
   "outputs": [
    {
     "name": "stdout",
     "output_type": "stream",
     "text": [
      "Loaded:  combined_data_1.txt\n",
      "Loaded:  combined_data_3.txt\n",
      "Loaded:  combined_data_2.txt\n",
      "Loaded:  combined_data_4.txt\n"
     ]
    }
   ],
   "source": [
    "df = pd.DataFrame({'Cust_ID','Rating'}) \n",
    "\n",
    "for data in data_list:\n",
    "    temp_df = pd.read_csv(os.path.join(dpath, data), header = None, names = ['Cust_ID', 'Rating'], usecols = [0,1])\n",
    "    temp_df['Rating'] = temp_df['Rating'].astype(float)\n",
    "    df = pd.concat([df, temp_df])\n",
    "    print(\"Loaded: \", data)\n",
    "\n",
    "df.index = np.arange(0,len(df))"
   ]
  },
  {
   "cell_type": "code",
   "execution_count": 29,
   "metadata": {},
   "outputs": [
    {
     "data": {
      "text/html": [
       "<div>\n",
       "<style scoped>\n",
       "    .dataframe tbody tr th:only-of-type {\n",
       "        vertical-align: middle;\n",
       "    }\n",
       "\n",
       "    .dataframe tbody tr th {\n",
       "        vertical-align: top;\n",
       "    }\n",
       "\n",
       "    .dataframe thead th {\n",
       "        text-align: right;\n",
       "    }\n",
       "</style>\n",
       "<table border=\"1\" class=\"dataframe\">\n",
       "  <thead>\n",
       "    <tr style=\"text-align: right;\">\n",
       "      <th></th>\n",
       "      <th>index</th>\n",
       "      <th>Rating</th>\n",
       "    </tr>\n",
       "  </thead>\n",
       "  <tbody>\n",
       "    <tr>\n",
       "      <th>0</th>\n",
       "      <td>0</td>\n",
       "      <td>True</td>\n",
       "    </tr>\n",
       "    <tr>\n",
       "      <th>1</th>\n",
       "      <td>1</td>\n",
       "      <td>True</td>\n",
       "    </tr>\n",
       "    <tr>\n",
       "      <th>2</th>\n",
       "      <td>2</td>\n",
       "      <td>True</td>\n",
       "    </tr>\n",
       "    <tr>\n",
       "      <th>3</th>\n",
       "      <td>550</td>\n",
       "      <td>True</td>\n",
       "    </tr>\n",
       "    <tr>\n",
       "      <th>4</th>\n",
       "      <td>696</td>\n",
       "      <td>True</td>\n",
       "    </tr>\n",
       "    <tr>\n",
       "      <th>...</th>\n",
       "      <td>...</td>\n",
       "      <td>...</td>\n",
       "    </tr>\n",
       "    <tr>\n",
       "      <th>17767</th>\n",
       "      <td>100488433</td>\n",
       "      <td>True</td>\n",
       "    </tr>\n",
       "    <tr>\n",
       "      <th>17768</th>\n",
       "      <td>100489039</td>\n",
       "      <td>True</td>\n",
       "    </tr>\n",
       "    <tr>\n",
       "      <th>17769</th>\n",
       "      <td>100489244</td>\n",
       "      <td>True</td>\n",
       "    </tr>\n",
       "    <tr>\n",
       "      <th>17770</th>\n",
       "      <td>100490607</td>\n",
       "      <td>True</td>\n",
       "    </tr>\n",
       "    <tr>\n",
       "      <th>17771</th>\n",
       "      <td>100497357</td>\n",
       "      <td>True</td>\n",
       "    </tr>\n",
       "  </tbody>\n",
       "</table>\n",
       "<p>17772 rows × 2 columns</p>\n",
       "</div>"
      ],
      "text/plain": [
       "           index  Rating\n",
       "0              0    True\n",
       "1              1    True\n",
       "2              2    True\n",
       "3            550    True\n",
       "4            696    True\n",
       "...          ...     ...\n",
       "17767  100488433    True\n",
       "17768  100489039    True\n",
       "17769  100489244    True\n",
       "17770  100490607    True\n",
       "17771  100497357    True\n",
       "\n",
       "[17772 rows x 2 columns]"
      ]
     },
     "execution_count": 29,
     "metadata": {},
     "output_type": "execute_result"
    }
   ],
   "source": [
    "df_nan = pd.DataFrame(pd.isnull(df.Rating))\n",
    "df_nan = df_nan[df_nan['Rating'] == True]\n",
    "df_nan = df_nan.reset_index()\n",
    "df_nan"
   ]
  },
  {
   "cell_type": "code",
   "execution_count": 30,
   "metadata": {},
   "outputs": [
    {
     "name": "stdout",
     "output_type": "stream",
     "text": [
      "Movie numpy: [3.0000e+00 3.0000e+00 3.0000e+00 ... 1.7772e+04 1.7772e+04 1.7772e+04]\n",
      "Length: 100480507\n"
     ]
    }
   ],
   "source": [
    "movie_np = []\n",
    "movie_id = 1\n",
    "\n",
    "for i,j in zip(df_nan['index'][1:],df_nan['index'][:-1]):\n",
    "    # numpy approach\n",
    "    temp = np.full((1,i-j-1), movie_id)\n",
    "    movie_np = np.append(movie_np, temp)\n",
    "    movie_id += 1\n",
    "\n",
    "# Account for last record and corresponding length\n",
    "# numpy approach\n",
    "last_record = np.full((1,len(df) - df_nan.iloc[-1, 0] - 1),movie_id)\n",
    "movie_np = np.append(movie_np, last_record)\n",
    "\n",
    "print('Movie numpy: {}'.format(movie_np))\n",
    "print('Length: {}'.format(len(movie_np)))"
   ]
  },
  {
   "cell_type": "code",
   "execution_count": 34,
   "metadata": {},
   "outputs": [
    {
     "name": "stderr",
     "output_type": "stream",
     "text": [
      "/tmp/ipykernel_19942/3989374729.py:2: SettingWithCopyWarning: \n",
      "A value is trying to be set on a copy of a slice from a DataFrame.\n",
      "Try using .loc[row_indexer,col_indexer] = value instead\n",
      "\n",
      "See the caveats in the documentation: https://pandas.pydata.org/pandas-docs/stable/user_guide/indexing.html#returning-a-view-versus-a-copy\n",
      "  df['Movie_Id'] = movie_np.astype(int)\n"
     ]
    },
    {
     "name": "stdout",
     "output_type": "stream",
     "text": [
      "             0  Cust_ID  Rating  Movie_Id\n",
      "3          NaN  1488844     3.0         3\n",
      "5000998    NaN   501954     2.0       998\n",
      "10001964   NaN   404654     5.0      1964\n",
      "15002878   NaN   886608     2.0      2878\n",
      "20003827   NaN  1193835     2.0      3827\n",
      "25004724   NaN    35179     4.0      4724\n",
      "30005670   NaN  2561536     3.0      5670\n",
      "35006570   NaN   200362     4.0      6570\n",
      "40007523   NaN   686629     4.0      7523\n",
      "45008341   NaN  1494017     2.0      8341\n",
      "50009228   NaN   437784     4.0      9228\n",
      "55010054   NaN   788058     4.0     10054\n",
      "60010826   NaN   433661     4.0     10826\n",
      "65011672   NaN  2402781     4.0     11672\n",
      "70012700   NaN   182620     4.0     12700\n",
      "75013584   NaN   506044     4.0     13584\n",
      "80014455   NaN   353605     2.0     14455\n",
      "85015118   NaN   664606     3.0     15118\n",
      "90016010   NaN  2213715     3.0     16010\n",
      "95016881   NaN  1589401     5.0     16881\n",
      "100017629  NaN  2314006     4.0     17629\n"
     ]
    },
    {
     "name": "stderr",
     "output_type": "stream",
     "text": [
      "/tmp/ipykernel_19942/3989374729.py:3: SettingWithCopyWarning: \n",
      "A value is trying to be set on a copy of a slice from a DataFrame.\n",
      "Try using .loc[row_indexer,col_indexer] = value instead\n",
      "\n",
      "See the caveats in the documentation: https://pandas.pydata.org/pandas-docs/stable/user_guide/indexing.html#returning-a-view-versus-a-copy\n",
      "  df['Cust_ID'] = df['Cust_ID'].astype(int)\n"
     ]
    }
   ],
   "source": [
    "df = df[pd.notnull(df['Rating'])]\n",
    "df['Movie_Id'] = movie_np.astype(int)\n",
    "df['Cust_ID'] = df['Cust_ID'].astype(int)\n",
    "print(df.iloc[::5000000, :])"
   ]
  },
  {
   "cell_type": "code",
   "execution_count": 25,
   "metadata": {},
   "outputs": [
    {
     "name": "stderr",
     "output_type": "stream",
     "text": [
      "/tmp/ipykernel_20511/4115711675.py:3: SettingWithCopyWarning: \n",
      "A value is trying to be set on a copy of a slice from a DataFrame.\n",
      "Try using .loc[row_indexer,col_indexer] = value instead\n",
      "\n",
      "See the caveats in the documentation: https://pandas.pydata.org/pandas-docs/stable/user_guide/indexing.html#returning-a-view-versus-a-copy\n",
      "  df['Cust_ID'] = df['Cust_ID'].map(user2idx)\n",
      "/tmp/ipykernel_20511/4115711675.py:4: SettingWithCopyWarning: \n",
      "A value is trying to be set on a copy of a slice from a DataFrame.\n",
      "Try using .loc[row_indexer,col_indexer] = value instead\n",
      "\n",
      "See the caveats in the documentation: https://pandas.pydata.org/pandas-docs/stable/user_guide/indexing.html#returning-a-view-versus-a-copy\n",
      "  df['Movie_Id'] = df['Movie_Id'].map(item2idx)\n"
     ]
    },
    {
     "data": {
      "text/html": [
       "<div>\n",
       "<style scoped>\n",
       "    .dataframe tbody tr th:only-of-type {\n",
       "        vertical-align: middle;\n",
       "    }\n",
       "\n",
       "    .dataframe tbody tr th {\n",
       "        vertical-align: top;\n",
       "    }\n",
       "\n",
       "    .dataframe thead th {\n",
       "        text-align: right;\n",
       "    }\n",
       "</style>\n",
       "<table border=\"1\" class=\"dataframe\">\n",
       "  <thead>\n",
       "    <tr style=\"text-align: right;\">\n",
       "      <th></th>\n",
       "      <th>Cust_ID</th>\n",
       "      <th>Movie_Id</th>\n",
       "      <th>Rating</th>\n",
       "    </tr>\n",
       "  </thead>\n",
       "  <tbody>\n",
       "    <tr>\n",
       "      <th>0</th>\n",
       "      <td>0</td>\n",
       "      <td>0</td>\n",
       "      <td>3.0</td>\n",
       "    </tr>\n",
       "    <tr>\n",
       "      <th>1</th>\n",
       "      <td>1</td>\n",
       "      <td>0</td>\n",
       "      <td>5.0</td>\n",
       "    </tr>\n",
       "    <tr>\n",
       "      <th>2</th>\n",
       "      <td>2</td>\n",
       "      <td>0</td>\n",
       "      <td>4.0</td>\n",
       "    </tr>\n",
       "    <tr>\n",
       "      <th>3</th>\n",
       "      <td>3</td>\n",
       "      <td>0</td>\n",
       "      <td>4.0</td>\n",
       "    </tr>\n",
       "    <tr>\n",
       "      <th>4</th>\n",
       "      <td>4</td>\n",
       "      <td>0</td>\n",
       "      <td>3.0</td>\n",
       "    </tr>\n",
       "    <tr>\n",
       "      <th>...</th>\n",
       "      <td>...</td>\n",
       "      <td>...</td>\n",
       "      <td>...</td>\n",
       "    </tr>\n",
       "    <tr>\n",
       "      <th>100480502</th>\n",
       "      <td>542</td>\n",
       "      <td>17769</td>\n",
       "      <td>4.0</td>\n",
       "    </tr>\n",
       "    <tr>\n",
       "      <th>100480503</th>\n",
       "      <td>29273</td>\n",
       "      <td>17769</td>\n",
       "      <td>3.0</td>\n",
       "    </tr>\n",
       "    <tr>\n",
       "      <th>100480504</th>\n",
       "      <td>29251</td>\n",
       "      <td>17769</td>\n",
       "      <td>1.0</td>\n",
       "    </tr>\n",
       "    <tr>\n",
       "      <th>100480505</th>\n",
       "      <td>22793</td>\n",
       "      <td>17769</td>\n",
       "      <td>4.0</td>\n",
       "    </tr>\n",
       "    <tr>\n",
       "      <th>100480506</th>\n",
       "      <td>76269</td>\n",
       "      <td>17769</td>\n",
       "      <td>2.0</td>\n",
       "    </tr>\n",
       "  </tbody>\n",
       "</table>\n",
       "<p>100480507 rows × 3 columns</p>\n",
       "</div>"
      ],
      "text/plain": [
       "           Cust_ID  Movie_Id  Rating\n",
       "0                0         0     3.0\n",
       "1                1         0     5.0\n",
       "2                2         0     4.0\n",
       "3                3         0     4.0\n",
       "4                4         0     3.0\n",
       "...            ...       ...     ...\n",
       "100480502      542     17769     4.0\n",
       "100480503    29273     17769     3.0\n",
       "100480504    29251     17769     1.0\n",
       "100480505    22793     17769     4.0\n",
       "100480506    76269     17769     2.0\n",
       "\n",
       "[100480507 rows x 3 columns]"
      ]
     },
     "execution_count": 25,
     "metadata": {},
     "output_type": "execute_result"
    }
   ],
   "source": [
    "df = df[['Cust_ID', 'Movie_Id', 'Rating']]\n",
    "\n",
    "user2idx = {j:i for i,j in enumerate(df['Cust_ID'].unique())}\n",
    "item2idx = {j:i for i,j in enumerate(df['Movie_Id'].unique())}\n",
    "df['Cust_ID'] = df['Cust_ID'].map(user2idx)\n",
    "df['Movie_Id'] = df['Movie_Id'].map(item2idx)\n",
    "df"
   ]
  },
  {
   "cell_type": "code",
   "execution_count": 26,
   "metadata": {},
   "outputs": [],
   "source": [
    "df.to_csv('preprocessed_df.csv', index=False)"
   ]
  },
  {
   "attachments": {},
   "cell_type": "markdown",
   "metadata": {},
   "source": [
    "## MF"
   ]
  },
  {
   "cell_type": "code",
   "execution_count": 2,
   "metadata": {},
   "outputs": [],
   "source": [
    "df = pd.read_csv('preprocessed_df.csv')"
   ]
  },
  {
   "cell_type": "code",
   "execution_count": 18,
   "metadata": {},
   "outputs": [],
   "source": [
    "def predict(P, Q, mu, b_u, b_i, user, item):\n",
    "    pred = mu + b_u[user] + b_i[item] + P[user, :].T.dot(Q[item, :])\n",
    "    return pred"
   ]
  },
  {
   "cell_type": "code",
   "execution_count": 19,
   "metadata": {},
   "outputs": [],
   "source": [
    "def sgd(P, Q, mu, b_u, b_i, samples, lr, reg):\n",
    "    for user, item, rating in samples:\n",
    "        pred = predict(P, Q, mu, b_u, b_i, user, item)\n",
    "        \n",
    "        error = rating - pred\n",
    "        \n",
    "        b_u[user] += lr * (error - reg * b_u[user])\n",
    "        b_i[item] += lr * (error - reg * b_i[item])\n",
    "        \n",
    "        P[user, :] += lr * (error * Q[item, :] - reg * P[user, :])\n",
    "        Q[item, :] += lr * (error * P[user, :] - reg * Q[item, :])"
   ]
  },
  {
   "cell_type": "code",
   "execution_count": 20,
   "metadata": {},
   "outputs": [],
   "source": [
    "def rmse(samples, P, Q, mu, b_u, b_i):\n",
    "    error = [] \n",
    "    for user,item,rating in samples:\n",
    "        square_error = (rating - predict(P, Q, mu, b_u, b_i, user, item))**2\n",
    "        error.append(square_error)\n",
    "    rmse = np.sqrt(np.array(error).mean())\n",
    "    return rmse"
   ]
  },
  {
   "cell_type": "code",
   "execution_count": 53,
   "metadata": {},
   "outputs": [],
   "source": [
    "class MF_with_sgd(object):\n",
    "    \n",
    "    def __init__(self, df ,num_users, num_items, F, lr, reg, epochs):\n",
    "        self.df = df\n",
    "        self.num_users, self.num_items = num_users, num_items\n",
    "        self.F = F\n",
    "        self.lr = lr \n",
    "        self.reg = reg \n",
    "        self.epochs = epochs\n",
    "        \n",
    "        self.summary = pd.DataFrame(columns = ['epoch','rmse'])\n",
    "        \n",
    "    def build_samples(self): \n",
    "        \n",
    "        self.samples = [] \n",
    "        self.users = self.df['Cust_ID'].values \n",
    "        self.items = self.df['Movie_Id'].values\n",
    "        self.ratings = self.df['Rating'].values\n",
    "        \n",
    "        for idx in range(len(self.df)):\n",
    "            if (idx % 10000000) == 0: \n",
    "                print(f\"Loaded: {idx}th sample\")\n",
    "            self.samples.append((self.users[idx],self.items[idx],self.ratings[idx]))\n",
    "    \n",
    "    def train(self): \n",
    "        self.P = np.random.normal(scale = 1/self.F,size = (self.num_users, self.F))\n",
    "        self.Q = np.random.normal(scale = 1/self.F,size = (self.num_items, self.F))\n",
    "        \n",
    "        self.b_u = np.zeros(self.num_users)\n",
    "        self.b_i = np.zeros(self.num_items)\n",
    "        \n",
    "        self.mu = self.df['Rating'].mean()\n",
    "        \n",
    "        self.samples = self.samples[:10000000]\n",
    "        for epoch in range(self.epochs): \n",
    "            print(f\"Start: {epoch}th epoch\")\n",
    "            np.random.shuffle(self.samples)\n",
    "            sgd(self.P, self.Q, self.mu, self.b_u, self.b_i, self.samples, self.lr, self.reg)\n",
    "            loss = rmse(self.samples, self.P, self.Q, self.mu, self.b_u, self.b_i)\n",
    "            print(f\"Epoch: {epoch} ; error = {loss}\")\n",
    "            self.summary.loc[epoch] = [epoch, loss]\n",
    "            "
   ]
  },
  {
   "cell_type": "code",
   "execution_count": 54,
   "metadata": {},
   "outputs": [
    {
     "name": "stdout",
     "output_type": "stream",
     "text": [
      "Loaded: 0th sample\n",
      "Loaded: 10000000th sample\n",
      "Loaded: 20000000th sample\n",
      "Loaded: 30000000th sample\n",
      "Loaded: 40000000th sample\n",
      "Loaded: 50000000th sample\n",
      "Loaded: 60000000th sample\n",
      "Loaded: 70000000th sample\n",
      "Loaded: 80000000th sample\n",
      "Loaded: 90000000th sample\n",
      "Loaded: 100000000th sample\n"
     ]
    }
   ],
   "source": [
    "K = 10 \n",
    "lr = 0.01 \n",
    "reg = 0.2 \n",
    "epochs = 30 \n",
    "\n",
    "user_num = df['Cust_ID'].nunique()\n",
    "item_num = df['Movie_Id'].nunique()\n",
    "\n",
    "mf = MF_with_sgd(df,user_num,item_num, K, lr, reg, epochs)\n",
    "mf.build_samples()"
   ]
  },
  {
   "cell_type": "code",
   "execution_count": 55,
   "metadata": {},
   "outputs": [
    {
     "name": "stdout",
     "output_type": "stream",
     "text": [
      "Start: 0th epoch\n",
      "Epoch: 0 ; error = 0.9572316469694094\n",
      "Start: 1th epoch\n",
      "Epoch: 1 ; error = 0.9397509040615157\n",
      "Start: 2th epoch\n",
      "Epoch: 2 ; error = 0.9314324950641998\n",
      "Start: 3th epoch\n",
      "Epoch: 3 ; error = 0.9270099889285239\n",
      "Start: 4th epoch\n",
      "Epoch: 4 ; error = 0.9224233657054468\n",
      "Start: 5th epoch\n",
      "Epoch: 5 ; error = 0.9205277940045398\n",
      "Start: 6th epoch\n",
      "Epoch: 6 ; error = 0.9186038999752827\n",
      "Start: 7th epoch\n",
      "Epoch: 7 ; error = 0.9176232089183574\n",
      "Start: 8th epoch\n",
      "Epoch: 8 ; error = 0.9158445003121978\n",
      "Start: 9th epoch\n",
      "Epoch: 9 ; error = 0.9149430735985525\n",
      "Start: 10th epoch\n",
      "Epoch: 10 ; error = 0.9137905380706801\n",
      "Start: 11th epoch\n",
      "Epoch: 11 ; error = 0.913244668978982\n",
      "Start: 12th epoch\n",
      "Epoch: 12 ; error = 0.9128372666927342\n",
      "Start: 13th epoch\n",
      "Epoch: 13 ; error = 0.9126737849916143\n",
      "Start: 14th epoch\n",
      "Epoch: 14 ; error = 0.9121091712182122\n",
      "Start: 15th epoch\n",
      "Epoch: 15 ; error = 0.9110212450433007\n",
      "Start: 16th epoch\n",
      "Epoch: 16 ; error = 0.9110054170528965\n",
      "Start: 17th epoch\n",
      "Epoch: 17 ; error = 0.9105869429059985\n",
      "Start: 18th epoch\n",
      "Epoch: 18 ; error = 0.9099133985560394\n",
      "Start: 19th epoch\n",
      "Epoch: 19 ; error = 0.9095473924475056\n",
      "Start: 20th epoch\n",
      "Epoch: 20 ; error = 0.9096608630401501\n",
      "Start: 21th epoch\n",
      "Epoch: 21 ; error = 0.909644711422956\n",
      "Start: 22th epoch\n",
      "Epoch: 22 ; error = 0.9092615776634949\n",
      "Start: 23th epoch\n",
      "Epoch: 23 ; error = 0.9085330755118011\n",
      "Start: 24th epoch\n",
      "Epoch: 24 ; error = 0.9085721671691565\n",
      "Start: 25th epoch\n",
      "Epoch: 25 ; error = 0.9090428974801879\n",
      "Start: 26th epoch\n",
      "Epoch: 26 ; error = 0.9091491008242811\n",
      "Start: 27th epoch\n",
      "Epoch: 27 ; error = 0.9076253288317064\n",
      "Start: 28th epoch\n",
      "Epoch: 28 ; error = 0.9085224452861957\n",
      "Start: 29th epoch\n",
      "Epoch: 29 ; error = 0.908183356606425\n"
     ]
    }
   ],
   "source": [
    "mf.train()"
   ]
  },
  {
   "cell_type": "code",
   "execution_count": 56,
   "metadata": {},
   "outputs": [
    {
     "data": {
      "image/png": "[encoded data removed]",
      "text/plain": [
       "<Figure size 640x480 with 1 Axes>"
      ]
     },
     "metadata": {},
     "output_type": "display_data"
    }
   ],
   "source": [
    "result_df = mf.summary \n",
    "\n",
    "x = result_df['epoch'].values\n",
    "y = result_df['rmse'].values\n",
    "\n",
    "plt.plot(x, y)\n",
    "plt.xticks(x,x)\n",
    "plt.xlabel('Epoch')\n",
    "plt.ylabel('RMSE')\n",
    "plt.grid(axis = 'y')\n",
    "plt.show()"
   ]
  },
  {
   "attachments": {},
   "cell_type": "markdown",
   "metadata": {},
   "source": [
    "## ALS"
   ]
  },
  {
   "cell_type": "code",
   "execution_count": 154,
   "metadata": {},
   "outputs": [],
   "source": [
    "def als(R, P, Q, F, reg):\n",
    "    for user in range(R.shape[0]):\n",
    "        QT_Q = np.matmul(Q.T, Q)\n",
    "        li = reg * np.eye(F)\n",
    "        QT_ru = np.matmul(Q.T,R[user].toarray()[0])\n",
    "        P[user] = np.linalg.solve(QT_Q + li,QT_ru)\n",
    "        \n",
    "    for item in range(R.shape[1]):\n",
    "        PT_P = np.matmul(P.T, P)\n",
    "        li = reg * np.eye(F)\n",
    "        PT_ri = np.matmul(P.T,R[:,item].toarray())\n",
    "        Q[item] = np.linalg.solve(PT_P + li,PT_ri).reshape(-1)"
   ]
  },
  {
   "cell_type": "code",
   "execution_count": 155,
   "metadata": {},
   "outputs": [],
   "source": [
    "def als_loss(sample, R, P, Q, reg):\n",
    "    loss = 0\n",
    "    for user, item, rating in sample: \n",
    "        loss += (rating - np.matmul(P[user],Q[item]))**2\n",
    "    for user in range(R.shape[0]):\n",
    "        loss += reg * np.matmul(P[user],P[user])\n",
    "    for item in range(R.shape[1]):\n",
    "        loss += reg * np.matmul(Q[item],Q[item])\n",
    "        \n",
    "    return loss"
   ]
  },
  {
   "cell_type": "code",
   "execution_count": 163,
   "metadata": {},
   "outputs": [],
   "source": [
    "class MF_with_als(object):\n",
    "    def __init__(self, df, R, F, reg, epochs):\n",
    "        self.df = df\n",
    "        self.R = R\n",
    "        self.num_users, self.num_items = R.shape \n",
    "        self.F = F \n",
    "        self.reg = reg \n",
    "        self.epochs = epochs \n",
    "        \n",
    "        self.summary = pd.DataFrame(columns = ['epoch','loss'])\n",
    "    \n",
    "    def build_samples(self):\n",
    "        self.samples = []\n",
    "        self.users = self.df['Cust_ID'].values\n",
    "        self.items = self.df['Movie_Id'].values\n",
    "        self.ratings = self.df['Rating'].values\n",
    "        \n",
    "        for idx in range(len(self.df)):\n",
    "            if (idx % 10000000) == 0:\n",
    "                print(f\"Loaded: {idx}th sample\")\n",
    "            self.samples.append((self.users[idx],self.items[idx],self.ratings[idx]))\n",
    "                \n",
    "    def train(self):\n",
    "        self.P = np.random.normal(scale = 1/self.F, size = (self.num_users, self.F))\n",
    "        self.Q = np.random.normal(scale = 1/self.F, size = (self.num_items, self.F))\n",
    "            \n",
    "        for epoch in range(self.epochs): \n",
    "            print(f'Start: {epoch}th epoch')\n",
    "            als(self.R, self.P, self.Q, self.F, self.reg)\n",
    "            loss = als_loss(self.samples, self.R, self.P, self.Q, self.reg)\n",
    "            print(f'Epoch: {epoch} ; loss = {loss}')\n",
    "            self.summary.loc[epoch] = [epoch, loss]\n",
    "            \n",
    "    "
   ]
  },
  {
   "cell_type": "code",
   "execution_count": 161,
   "metadata": {},
   "outputs": [
    {
     "name": "stderr",
     "output_type": "stream",
     "text": [
      "/tmp/ipykernel_20511/902390691.py:4: SettingWithCopyWarning: \n",
      "A value is trying to be set on a copy of a slice from a DataFrame.\n",
      "Try using .loc[row_indexer,col_indexer] = value instead\n",
      "\n",
      "See the caveats in the documentation: https://pandas.pydata.org/pandas-docs/stable/user_guide/indexing.html#returning-a-view-versus-a-copy\n",
      "  als_df['Cust_ID'] = als_df['Cust_ID'].map(als_df_user2idx)\n",
      "/tmp/ipykernel_20511/902390691.py:5: SettingWithCopyWarning: \n",
      "A value is trying to be set on a copy of a slice from a DataFrame.\n",
      "Try using .loc[row_indexer,col_indexer] = value instead\n",
      "\n",
      "See the caveats in the documentation: https://pandas.pydata.org/pandas-docs/stable/user_guide/indexing.html#returning-a-view-versus-a-copy\n",
      "  als_df['Movie_Id'] = als_df['Movie_Id'].map(als_df_item2idx)\n"
     ]
    }
   ],
   "source": [
    "als_df = df.iloc[:10000000]\n",
    "als_df_user2idx = {user:idx for idx, user in enumerate(als_df['Cust_ID'].unique())}\n",
    "als_df_item2idx = {item:idx for idx, item in enumerate(als_df['Movie_Id'].unique())}\n",
    "als_df['Cust_ID'] = als_df['Cust_ID'].map(als_df_user2idx)\n",
    "als_df['Movie_Id'] = als_df['Movie_Id'].map(als_df_item2idx)"
   ]
  },
  {
   "cell_type": "code",
   "execution_count": 162,
   "metadata": {},
   "outputs": [],
   "source": [
    "R = csr_matrix(\n",
    "    (np.array(als_df['Rating'].values, dtype = np.int32),\n",
    "    (np.array(als_df['Cust_ID'].values, dtype = np.int32),np.array(als_df['Movie_Id'].values, dtype = np.int32))\n",
    "    ))\n",
    "\n",
    "F = 10 \n",
    "reg = 0.2\n",
    "epochs = 500 "
   ]
  },
  {
   "cell_type": "code",
   "execution_count": 164,
   "metadata": {},
   "outputs": [
    {
     "name": "stdout",
     "output_type": "stream",
     "text": [
      "Loaded: 0th sample\n"
     ]
    }
   ],
   "source": [
    "MF_als = MF_with_als(als_df, R, F, reg, epochs)\n",
    "MF_als.build_samples()"
   ]
  },
  {
   "cell_type": "code",
   "execution_count": null,
   "metadata": {},
   "outputs": [],
   "source": [
    "MF_als.train()"
   ]
  },
  {
   "attachments": {},
   "cell_type": "markdown",
   "metadata": {},
   "source": [
    "## Pytorch Implementation"
   ]
  },
  {
   "attachments": {},
   "cell_type": "markdown",
   "metadata": {},
   "source": [
    "### Training Setting"
   ]
  },
  {
   "cell_type": "code",
   "execution_count": 20,
   "metadata": {},
   "outputs": [],
   "source": [
    "class Netflix(Dataset):\n",
    "    def __init__(self, df):\n",
    "        self.df = df\n",
    "        self.users = self.df['Cust_ID'].values\n",
    "        self.items = self.df['Movie_Id'].values\n",
    "        self.ratings = self.df['Rating'].values\n",
    "        \n",
    "        \n",
    "    def __len__(self):\n",
    "        return len(self.df)\n",
    "\n",
    "    def __getitem__(self, index):\n",
    "        user = self.users[index]\n",
    "        item = self.items[index]\n",
    "        rating = self.ratings[index]\n",
    "        \n",
    "        return user, item, rating"
   ]
  },
  {
   "cell_type": "code",
   "execution_count": 25,
   "metadata": {},
   "outputs": [],
   "source": [
    "sample_df = df.loc[df['Cust_ID'] < 5000]\n",
    "\n",
    "train_df, test_df = train_test_split(sample_df, test_size = 0.2, random_state = 42)"
   ]
  },
  {
   "cell_type": "code",
   "execution_count": 17,
   "metadata": {},
   "outputs": [],
   "source": [
    "train_dataset = Netflix(train_df)\n",
    "test_dataset = Netflix(test_df)\n",
    "train_dataloader = DataLoader(train_dataset, batch_size=10000, shuffle=True)\n",
    "test_dataloader = DataLoader(test_dataset, batch_size=10000, shuffle=True)"
   ]
  },
  {
   "cell_type": "code",
   "execution_count": 18,
   "metadata": {},
   "outputs": [],
   "source": [
    "device = torch.device('cuda' if torch.cuda.is_available() else 'cpu')"
   ]
  },
  {
   "cell_type": "code",
   "execution_count": null,
   "metadata": {},
   "outputs": [],
   "source": [
    "def train(model, train_loader, criterion ,optimizer):\n",
    "    model.train() \n",
    "    total_loss = 0 \n",
    "    for user, item, rating in train_loader:\n",
    "        user = user.to(device)\n",
    "        item = item.to(device)\n",
    "        rating = rating.to(device)\n",
    "        \n",
    "        optimizer.zero_grad()\n",
    "        pred = model(user, item)\n",
    "        loss = criterion(pred, rating)\n",
    "        \n",
    "        loss.backward()\n",
    "        optimizer.step()\n",
    "        \n",
    "        total_loss += loss.item()\n",
    "    \n",
    "    return total_loss / len(train_loader)\n",
    "\n",
    "def evaluate(model, test_loader, criterion):\n",
    "    model.eval()\n",
    "    total_loss = 0\n",
    "    \n",
    "    with torch.no_grad():\n",
    "        for user, item, rating in test_loader:\n",
    "            user = user.to(device)\n",
    "            item = item.to(device)\n",
    "            rating = rating.to(device)\n",
    "\n",
    "            pred = model(user, item)\n",
    "            loss = criterion(pred, rating)\n",
    "\n",
    "            total_loss += loss.item()\n",
    "    \n",
    "    return total_loss / len(test_loader)"
   ]
  },
  {
   "cell_type": "code",
   "execution_count": 27,
   "metadata": {},
   "outputs": [],
   "source": [
    "def RMSELoss(yhat,y):\n",
    "    return torch.sqrt(torch.mean((yhat-y)**2))"
   ]
  },
  {
   "attachments": {},
   "cell_type": "markdown",
   "metadata": {},
   "source": [
    "### Models"
   ]
  },
  {
   "cell_type": "code",
   "execution_count": 30,
   "metadata": {},
   "outputs": [],
   "source": [
    "class BasicFactorizaionModel(nn.Module):\n",
    "    def __init__(self, num_users, num_items, F):\n",
    "        \n",
    "        super(BasicFactorizaionModel, self).__init__()\n",
    "        self.P = nn.Embedding(num_users, F)\n",
    "        self.Q = nn.Embedding(num_items, F)\n",
    "        \n",
    "        self.P.weight.data.normal_(0,1./F)\n",
    "        self.Q.weight.data.normal_(0,1./F)\n",
    "    \n",
    "    def forward(self, user, item):\n",
    "        P_u = self.P(user)\n",
    "        Q_i = self.Q(item)\n",
    "        \n",
    "        rui = torch.sum(P_u * Q_i, dim = 1)\n",
    "        \n",
    "        return rui\n"
   ]
  },
  {
   "cell_type": "code",
   "execution_count": 32,
   "metadata": {},
   "outputs": [],
   "source": [
    "class AddingBiases(BasicFactorizaionModel):\n",
    "    def __init__(self, num_users, num_items, F, mu):\n",
    "        \n",
    "        super(AddingBiases, self).__init__(num_users, num_items, F)\n",
    "        self.user_biases = nn.Embedding(num_users, 1)\n",
    "        self.item_biases = nn.Embedding(num_items, 1)\n",
    "        \n",
    "        self.user_biases.weight.data.normal_(0,1./F)\n",
    "        self.item_biases.weight.data.normal_(0,1./F)\n",
    "        \n",
    "        self.mu = mu\n",
    "        \n",
    "    def forward(self, user, item):\n",
    "        P_u = self.P(user)\n",
    "        Q_i = self.Q(item)\n",
    "        \n",
    "        bu = self.user_biases(user) \n",
    "        bi = self.item_biases(item)\n",
    "        \n",
    "        rui = self.mu + torch.squeeze(bu) + torch.squeeze(bi) + torch.sum(P_u * Q_i, dim = 1)\n",
    "        \n",
    "        return rui "
   ]
  },
  {
   "cell_type": "code",
   "execution_count": 33,
   "metadata": {},
   "outputs": [],
   "source": [
    "class AdditionalInputSources(AddingBiases):\n",
    "    def __init__(self, num_users, num_items, F, mu, implicit_data):\n",
    "        super(AdditionalInputSources, self).__init__(num_users, num_items, F, mu)\n",
    "        self.implicit_data = implicit_data\n",
    "        \n",
    "        self.implicit_factors = nn.Embedding(num_items, F)\n",
    "        self.implicit_factors.weight.data.normal_(0,1./F)\n",
    "        \n",
    "    def forward(self, user, item):\n",
    "        P_u = self.P(user)\n",
    "        Q_i = self.Q(item)\n",
    "        \n",
    "        bu = self.user_biases(user)\n",
    "        bi = self.item_biases(item)\n",
    "        \n",
    "        sum_of_xi = torch.sum(self.implicit_factors(self.implicit_data[user]),dim = 0)\n",
    "        norm = len(self.implicit_data[user]) ** -0.5\n",
    "        \n",
    "        rui = self.mu + torch.squeeze(bu) + torch.squeeze(bi) + torch.sum(Q_i * (P_u + (norm * sum_of_xi)), dim = 1)\n",
    "        \n",
    "        return rui\n",
    "        "
   ]
  },
  {
   "cell_type": "code",
   "execution_count": null,
   "metadata": {},
   "outputs": [],
   "source": [
    "# class TemporalDynamics(AdditionalInputSources):\n",
    "#     def __init__(self, num_users, num_items, F, mu, implicit_data):\n",
    "#         super(TemporalDynamics, self).__init__(num_users, num_items, F, mu, implicit_data)\n",
    "        \n",
    "#         self.temporal_user_factors = nn.Embedding(num_users, 1)\n",
    "#         self.temporal_item_factors = nn.Embedding(num_items, 1)\n",
    "#         self.temporal_user_\n",
    "        \n",
    "        \n",
    "#     def forward(self, user, item, time_bin):\n",
    "#         P_u = self.P(user)\n",
    "#         Q_i = self.Q(item)\n",
    "        \n",
    "#         bu = self.user_biases(user)\n",
    "#         bi = self.item_biases(item)\n",
    "        \n",
    "#         sum_of_xi = torch.sum(self.implicit_factors(self.implicit_data[user]),dim = 0)\n",
    "#         norm = len(self.implicit_data[user]) ** -0.5\n",
    "        \n",
    "#         sum_of_ti = self.temporal_factors(time_bin)\n",
    "        \n",
    "#         rui = self.mu + torch.squeeze(bu) + torch.squeeze(bi) + torch.sum(Q_i * (P_u + (norm * sum_of_xi) + sum_of_ti), dim = 1)\n",
    "        \n",
    "#         return rui"
   ]
  },
  {
   "cell_type": "code",
   "execution_count": null,
   "metadata": {},
   "outputs": [],
   "source": []
  }
 ],
 "metadata": {
  "kernelspec": {
   "display_name": "recbole",
   "language": "python",
   "name": "python3"
  },
  "language_info": {
   "codemirror_mode": {
    "name": "ipython",
    "version": 3
   },
   "file_extension": ".py",
   "mimetype": "text/x-python",
   "name": "python",
   "nbconvert_exporter": "python",
   "pygments_lexer": "ipython3",
   "version": "3.8.5"
  },
  "orig_nbformat": 4
 },
 "nbformat": 4,
 "nbformat_minor": 2
}
