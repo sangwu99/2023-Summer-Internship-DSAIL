{
 "cells": [
  {
   "cell_type": "code",
   "execution_count": 1,
   "metadata": {},
   "outputs": [],
   "source": [
    "import os \n",
    "import pandas as pd \n",
    "import numpy as np \n",
    "import matplotlib.pyplot as plt\n"
   ]
  },
  {
   "cell_type": "code",
   "execution_count": 5,
   "metadata": {},
   "outputs": [],
   "source": [
    "summary_with_10000user = pd.read_csv('summary_with_10000user.csv')\n",
    "summary_with_20000user = pd.read_csv('summary_with_20000user.csv') \n",
    "summary = pd.read_csv('summary.csv')"
   ]
  },
  {
   "cell_type": "code",
   "execution_count": 8,
   "metadata": {},
   "outputs": [],
   "source": [
    "def make_model_name(x):\n",
    "    if x == 0:\n",
    "        return 'Neighborhood Model'\n",
    "    \n",
    "    if x==1:\n",
    "        return 'SVD++'\n",
    "    \n",
    "    if x==2:\n",
    "        return 'Intergrated Model'\n",
    "    \n",
    "    if x==4:\n",
    "        return 'Temporal Model'"
   ]
  },
  {
   "cell_type": "code",
   "execution_count": 14,
   "metadata": {},
   "outputs": [],
   "source": [
    "summary['model_name'] = summary['model'].apply(make_model_name)\n",
    "summary_with_10000user['model_name'] = summary_with_10000user['model'].apply(make_model_name)\n",
    "summary_with_20000user['model_name'] = summary_with_20000user['model'].apply(make_model_name)"
   ]
  },
  {
   "cell_type": "code",
   "execution_count": 15,
   "metadata": {},
   "outputs": [
    {
     "data": {
      "text/plain": [
       "model_name\n",
       "Intergrated Model     0.520523\n",
       "Neighborhood Model    0.495449\n",
       "SVD++                 0.691296\n",
       "Temporal Model        0.907792\n",
       "Name: test_rmse, dtype: float64"
      ]
     },
     "execution_count": 15,
     "metadata": {},
     "output_type": "execute_result"
    }
   ],
   "source": [
    "summary.groupby('model_name').min()['test_rmse']"
   ]
  },
  {
   "cell_type": "code",
   "execution_count": 16,
   "metadata": {},
   "outputs": [
    {
     "data": {
      "text/plain": [
       "model_name\n",
       "Intergrated Model     0.644858\n",
       "Neighborhood Model    0.633308\n",
       "SVD++                 0.767545\n",
       "Temporal Model        0.930771\n",
       "Name: test_rmse, dtype: float64"
      ]
     },
     "execution_count": 16,
     "metadata": {},
     "output_type": "execute_result"
    }
   ],
   "source": [
    "summary_with_10000user.groupby('model_name').min()['test_rmse']"
   ]
  },
  {
   "cell_type": "code",
   "execution_count": 18,
   "metadata": {},
   "outputs": [
    {
     "data": {
      "text/plain": [
       "model_name\n",
       "Intergrated Model     0.749644\n",
       "Neighborhood Model    0.759774\n",
       "SVD++                 0.790877\n",
       "Name: test_rmse, dtype: float64"
      ]
     },
     "execution_count": 18,
     "metadata": {},
     "output_type": "execute_result"
    }
   ],
   "source": [
    "summary_with_20000user.groupby('model_name').min()['test_rmse']"
   ]
  },
  {
   "cell_type": "code",
   "execution_count": null,
   "metadata": {},
   "outputs": [],
   "source": []
  }
 ],
 "metadata": {
  "kernelspec": {
   "display_name": "recbole",
   "language": "python",
   "name": "python3"
  },
  "language_info": {
   "codemirror_mode": {
    "name": "ipython",
    "version": 3
   },
   "file_extension": ".py",
   "mimetype": "text/x-python",
   "name": "python",
   "nbconvert_exporter": "python",
   "pygments_lexer": "ipython3",
   "version": "3.8.5"
  },
  "orig_nbformat": 4
 },
 "nbformat": 4,
 "nbformat_minor": 2
}
